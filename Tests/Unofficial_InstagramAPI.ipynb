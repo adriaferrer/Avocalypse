{
 "cells": [
  {
   "cell_type": "code",
   "execution_count": 42,
   "metadata": {},
   "outputs": [],
   "source": [
    "import json\n",
    "from InstagramAPI import InstagramAPI"
   ]
  },
  {
   "cell_type": "code",
   "execution_count": 43,
   "metadata": {},
   "outputs": [],
   "source": [
    "\n",
    "class DownloadThread():\n",
    "    def __init__(self, client, thread_id):\n",
    "        self.client = client\n",
    "\n",
    "        self.thread = thread_id\n",
    "        self.newest_cursor = None\n",
    "        self.oldest_cursor = None\n",
    "        self.users = {}\n",
    "        self.conversation = []\n",
    "\n",
    "    def init_owner(self):\n",
    "        if not self.client.getProfileData():\n",
    "            print(\"Failed!\\n\")\n",
    "\n",
    "        user = self.client.LastJson.get('user')\n",
    "        self._add_user(user)\n",
    "\n",
    "    def _request(self):\n",
    "        return self.client.getv2Threads(thread_id, self.oldest_cursor)\n",
    "\n",
    "    def _download(self):\n",
    "        if self.oldest_cursor is not None:\n",
    "            self._request()\n",
    "            self._save()\n",
    "\n",
    "    def _save(self):\n",
    "        data = self.client.LastJson.get('thread')\n",
    "        self.conversation = data['items'][::-1] + self.conversation\n",
    "        self.oldest_cursor = data.get('oldest_cursor')\n",
    "        self.newest_cursor = data.get('newest_cursor')\n",
    "        self._download()\n",
    "\n",
    "    def add_users(self, users):\n",
    "        for user in users:\n",
    "            self._add_user(user)\n",
    "\n",
    "    def _add_user(self, user):\n",
    "        self.users[user['pk']] = {'full_name': user['pk'], 'username': user['username']}\n",
    "\n",
    "    def download(self):\n",
    "        if not self._request():\n",
    "            print(\"Failed!\\n\")\n",
    "\n",
    "        data = self.client.LastJson.get('thread')\n",
    "        self.add_users(data['users'])\n",
    "        self._save()\n",
    "\n",
    "    def save(self):\n",
    "        dump = json.dumps(self.conversation)\n",
    "        with open('back.txt', 'w') as f:\n",
    "            f.write(dump)"
   ]
  },
  {
   "cell_type": "code",
   "execution_count": 44,
   "metadata": {},
   "outputs": [
    {
     "name": "stdout",
     "output_type": "stream",
     "text": [
      "Request return 429 error!\n",
      "{'message': 'Please wait a few minutes before you try again.', 'status': 'fail'}\n",
      "Request return 404 error!\n",
      "Login success!\n",
      "\n",
      "Request return 404 error!\n",
      "Failed!\n",
      "\n"
     ]
    },
    {
     "ename": "TypeError",
     "evalue": "'NoneType' object is not subscriptable",
     "output_type": "error",
     "traceback": [
      "\u001b[0;31m---------------------------------------------------------------------------\u001b[0m",
      "\u001b[0;31mTypeError\u001b[0m                                 Traceback (most recent call last)",
      "\u001b[0;32m<ipython-input-44-1ebdc5aa6b9b>\u001b[0m in \u001b[0;36m<module>\u001b[0;34m\u001b[0m\n\u001b[1;32m      6\u001b[0m \u001b[0;34m\u001b[0m\u001b[0m\n\u001b[1;32m      7\u001b[0m     \u001b[0minst\u001b[0m \u001b[0;34m=\u001b[0m \u001b[0mDownloadThread\u001b[0m\u001b[0;34m(\u001b[0m\u001b[0mInstagramAPI\u001b[0m\u001b[0;34m,\u001b[0m \u001b[0mthread_id\u001b[0m\u001b[0;34m)\u001b[0m\u001b[0;34m\u001b[0m\u001b[0;34m\u001b[0m\u001b[0m\n\u001b[0;32m----> 8\u001b[0;31m     \u001b[0minst\u001b[0m\u001b[0;34m.\u001b[0m\u001b[0mdownload\u001b[0m\u001b[0;34m(\u001b[0m\u001b[0;34m)\u001b[0m\u001b[0;34m\u001b[0m\u001b[0;34m\u001b[0m\u001b[0m\n\u001b[0m\u001b[1;32m      9\u001b[0m     \u001b[0minst\u001b[0m\u001b[0;34m.\u001b[0m\u001b[0msave\u001b[0m\u001b[0;34m(\u001b[0m\u001b[0;34m)\u001b[0m\u001b[0;34m\u001b[0m\u001b[0;34m\u001b[0m\u001b[0m\n",
      "\u001b[0;32m<ipython-input-43-050e9ee3be30>\u001b[0m in \u001b[0;36mdownload\u001b[0;34m(self)\u001b[0m\n\u001b[1;32m     44\u001b[0m \u001b[0;34m\u001b[0m\u001b[0m\n\u001b[1;32m     45\u001b[0m         \u001b[0mdata\u001b[0m \u001b[0;34m=\u001b[0m \u001b[0mself\u001b[0m\u001b[0;34m.\u001b[0m\u001b[0mclient\u001b[0m\u001b[0;34m.\u001b[0m\u001b[0mLastJson\u001b[0m\u001b[0;34m.\u001b[0m\u001b[0mget\u001b[0m\u001b[0;34m(\u001b[0m\u001b[0;34m'thread'\u001b[0m\u001b[0;34m)\u001b[0m\u001b[0;34m\u001b[0m\u001b[0;34m\u001b[0m\u001b[0m\n\u001b[0;32m---> 46\u001b[0;31m         \u001b[0mself\u001b[0m\u001b[0;34m.\u001b[0m\u001b[0madd_users\u001b[0m\u001b[0;34m(\u001b[0m\u001b[0mdata\u001b[0m\u001b[0;34m[\u001b[0m\u001b[0;34m'users'\u001b[0m\u001b[0;34m]\u001b[0m\u001b[0;34m)\u001b[0m\u001b[0;34m\u001b[0m\u001b[0;34m\u001b[0m\u001b[0m\n\u001b[0m\u001b[1;32m     47\u001b[0m         \u001b[0mself\u001b[0m\u001b[0;34m.\u001b[0m\u001b[0m_save\u001b[0m\u001b[0;34m(\u001b[0m\u001b[0;34m)\u001b[0m\u001b[0;34m\u001b[0m\u001b[0;34m\u001b[0m\u001b[0m\n\u001b[1;32m     48\u001b[0m \u001b[0;34m\u001b[0m\u001b[0m\n",
      "\u001b[0;31mTypeError\u001b[0m: 'NoneType' object is not subscriptable"
     ]
    }
   ],
   "source": [
    "if __name__ == \"__main__\":\n",
    "    thread_id = '1234'  # id thread for download\n",
    "\n",
    "    InstagramAPI = InstagramAPI(\"theavocalypse\", \"17028854\")\n",
    "    InstagramAPI.login()\n",
    "\n",
    "    inst = DownloadThread(InstagramAPI, thread_id)\n",
    "    inst.download()\n",
    "    inst.save()"
   ]
  },
  {
   "cell_type": "code",
   "execution_count": null,
   "metadata": {},
   "outputs": [],
   "source": []
  }
 ],
 "metadata": {
  "kernelspec": {
   "display_name": "Python 3",
   "language": "python",
   "name": "python3"
  },
  "language_info": {
   "codemirror_mode": {
    "name": "ipython",
    "version": 3
   },
   "file_extension": ".py",
   "mimetype": "text/x-python",
   "name": "python",
   "nbconvert_exporter": "python",
   "pygments_lexer": "ipython3",
   "version": "3.7.2"
  }
 },
 "nbformat": 4,
 "nbformat_minor": 2
}
