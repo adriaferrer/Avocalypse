{
 "cells": [
  {
   "cell_type": "code",
   "execution_count": 1,
   "metadata": {},
   "outputs": [],
   "source": [
    "import pandas as pd"
   ]
  },
  {
   "cell_type": "code",
   "execution_count": 2,
   "metadata": {},
   "outputs": [],
   "source": [
    "price_table = pd.read_csv('/Users/adriaferrer/Avocalypse_data/FAOSTAT_pricing.csv')"
   ]
  },
  {
   "cell_type": "code",
   "execution_count": 3,
   "metadata": {},
   "outputs": [
    {
     "data": {
      "text/plain": [
       "(527, 14)"
      ]
     },
     "execution_count": 3,
     "metadata": {},
     "output_type": "execute_result"
    }
   ],
   "source": [
    "price_table.shape"
   ]
  },
  {
   "cell_type": "code",
   "execution_count": 4,
   "metadata": {},
   "outputs": [
    {
     "name": "stdout",
     "output_type": "stream",
     "text": [
      "<class 'pandas.core.frame.DataFrame'>\n",
      "RangeIndex: 527 entries, 0 to 526\n",
      "Data columns (total 14 columns):\n",
      "Domain Code         527 non-null object\n",
      "Domain              527 non-null object\n",
      "Area Code           527 non-null int64\n",
      "Area                527 non-null object\n",
      "Element Code        527 non-null int64\n",
      "Element             527 non-null object\n",
      "Item Code           527 non-null int64\n",
      "Item                527 non-null object\n",
      "Year Code           527 non-null int64\n",
      "Year                527 non-null int64\n",
      "Unit                0 non-null float64\n",
      "Value               527 non-null float64\n",
      "Flag                527 non-null object\n",
      "Flag Description    527 non-null object\n",
      "dtypes: float64(2), int64(5), object(7)\n",
      "memory usage: 57.7+ KB\n"
     ]
    }
   ],
   "source": [
    "price_table.info()"
   ]
  },
  {
   "cell_type": "code",
   "execution_count": 5,
   "metadata": {},
   "outputs": [
    {
     "data": {
      "text/html": [
       "<div>\n",
       "<style scoped>\n",
       "    .dataframe tbody tr th:only-of-type {\n",
       "        vertical-align: middle;\n",
       "    }\n",
       "\n",
       "    .dataframe tbody tr th {\n",
       "        vertical-align: top;\n",
       "    }\n",
       "\n",
       "    .dataframe thead th {\n",
       "        text-align: right;\n",
       "    }\n",
       "</style>\n",
       "<table border=\"1\" class=\"dataframe\">\n",
       "  <thead>\n",
       "    <tr style=\"text-align: right;\">\n",
       "      <th></th>\n",
       "      <th>Domain Code</th>\n",
       "      <th>Domain</th>\n",
       "      <th>Area Code</th>\n",
       "      <th>Area</th>\n",
       "      <th>Element Code</th>\n",
       "      <th>Element</th>\n",
       "      <th>Item Code</th>\n",
       "      <th>Item</th>\n",
       "      <th>Year Code</th>\n",
       "      <th>Year</th>\n",
       "      <th>Unit</th>\n",
       "      <th>Value</th>\n",
       "      <th>Flag</th>\n",
       "      <th>Flag Description</th>\n",
       "    </tr>\n",
       "  </thead>\n",
       "  <tbody>\n",
       "    <tr>\n",
       "      <th>0</th>\n",
       "      <td>PI</td>\n",
       "      <td>Producer Price Indices - Annual</td>\n",
       "      <td>9</td>\n",
       "      <td>Argentina</td>\n",
       "      <td>5539</td>\n",
       "      <td>Producer Price Index (2004-2006 = 100)</td>\n",
       "      <td>572</td>\n",
       "      <td>Avocados</td>\n",
       "      <td>2007</td>\n",
       "      <td>2007</td>\n",
       "      <td>NaN</td>\n",
       "      <td>123.086061</td>\n",
       "      <td>Fc</td>\n",
       "      <td>Calculated data</td>\n",
       "    </tr>\n",
       "    <tr>\n",
       "      <th>1</th>\n",
       "      <td>PI</td>\n",
       "      <td>Producer Price Indices - Annual</td>\n",
       "      <td>9</td>\n",
       "      <td>Argentina</td>\n",
       "      <td>5539</td>\n",
       "      <td>Producer Price Index (2004-2006 = 100)</td>\n",
       "      <td>572</td>\n",
       "      <td>Avocados</td>\n",
       "      <td>2008</td>\n",
       "      <td>2008</td>\n",
       "      <td>NaN</td>\n",
       "      <td>155.952012</td>\n",
       "      <td>Fc</td>\n",
       "      <td>Calculated data</td>\n",
       "    </tr>\n",
       "    <tr>\n",
       "      <th>2</th>\n",
       "      <td>PI</td>\n",
       "      <td>Producer Price Indices - Annual</td>\n",
       "      <td>9</td>\n",
       "      <td>Argentina</td>\n",
       "      <td>5539</td>\n",
       "      <td>Producer Price Index (2004-2006 = 100)</td>\n",
       "      <td>572</td>\n",
       "      <td>Avocados</td>\n",
       "      <td>2009</td>\n",
       "      <td>2009</td>\n",
       "      <td>NaN</td>\n",
       "      <td>139.891744</td>\n",
       "      <td>Fc</td>\n",
       "      <td>Calculated data</td>\n",
       "    </tr>\n",
       "    <tr>\n",
       "      <th>3</th>\n",
       "      <td>PI</td>\n",
       "      <td>Producer Price Indices - Annual</td>\n",
       "      <td>9</td>\n",
       "      <td>Argentina</td>\n",
       "      <td>5539</td>\n",
       "      <td>Producer Price Index (2004-2006 = 100)</td>\n",
       "      <td>572</td>\n",
       "      <td>Avocados</td>\n",
       "      <td>2010</td>\n",
       "      <td>2010</td>\n",
       "      <td>NaN</td>\n",
       "      <td>171.921928</td>\n",
       "      <td>Fc</td>\n",
       "      <td>Calculated data</td>\n",
       "    </tr>\n",
       "    <tr>\n",
       "      <th>4</th>\n",
       "      <td>PI</td>\n",
       "      <td>Producer Price Indices - Annual</td>\n",
       "      <td>9</td>\n",
       "      <td>Argentina</td>\n",
       "      <td>5539</td>\n",
       "      <td>Producer Price Index (2004-2006 = 100)</td>\n",
       "      <td>572</td>\n",
       "      <td>Avocados</td>\n",
       "      <td>2011</td>\n",
       "      <td>2011</td>\n",
       "      <td>NaN</td>\n",
       "      <td>215.123273</td>\n",
       "      <td>Fc</td>\n",
       "      <td>Calculated data</td>\n",
       "    </tr>\n",
       "  </tbody>\n",
       "</table>\n",
       "</div>"
      ],
      "text/plain": [
       "  Domain Code                           Domain  Area Code       Area  \\\n",
       "0          PI  Producer Price Indices - Annual          9  Argentina   \n",
       "1          PI  Producer Price Indices - Annual          9  Argentina   \n",
       "2          PI  Producer Price Indices - Annual          9  Argentina   \n",
       "3          PI  Producer Price Indices - Annual          9  Argentina   \n",
       "4          PI  Producer Price Indices - Annual          9  Argentina   \n",
       "\n",
       "   Element Code                                 Element  Item Code      Item  \\\n",
       "0          5539  Producer Price Index (2004-2006 = 100)        572  Avocados   \n",
       "1          5539  Producer Price Index (2004-2006 = 100)        572  Avocados   \n",
       "2          5539  Producer Price Index (2004-2006 = 100)        572  Avocados   \n",
       "3          5539  Producer Price Index (2004-2006 = 100)        572  Avocados   \n",
       "4          5539  Producer Price Index (2004-2006 = 100)        572  Avocados   \n",
       "\n",
       "   Year Code  Year  Unit       Value Flag Flag Description  \n",
       "0       2007  2007   NaN  123.086061   Fc  Calculated data  \n",
       "1       2008  2008   NaN  155.952012   Fc  Calculated data  \n",
       "2       2009  2009   NaN  139.891744   Fc  Calculated data  \n",
       "3       2010  2010   NaN  171.921928   Fc  Calculated data  \n",
       "4       2011  2011   NaN  215.123273   Fc  Calculated data  "
      ]
     },
     "execution_count": 5,
     "metadata": {},
     "output_type": "execute_result"
    }
   ],
   "source": [
    "price_table.head()"
   ]
  },
  {
   "cell_type": "code",
   "execution_count": 6,
   "metadata": {},
   "outputs": [
    {
     "data": {
      "text/plain": [
       "Domain Code           0\n",
       "Domain                0\n",
       "Area Code             0\n",
       "Area                  0\n",
       "Element Code          0\n",
       "Element               0\n",
       "Item Code             0\n",
       "Item                  0\n",
       "Year Code             0\n",
       "Year                  0\n",
       "Unit                527\n",
       "Value                 0\n",
       "Flag                  0\n",
       "Flag Description      0\n",
       "dtype: int64"
      ]
     },
     "execution_count": 6,
     "metadata": {},
     "output_type": "execute_result"
    }
   ],
   "source": [
    "price_table.isna().sum()"
   ]
  },
  {
   "cell_type": "code",
   "execution_count": 16,
   "metadata": {},
   "outputs": [],
   "source": [
    "price_table = price_table[['Area Code','Year Code','Value']]"
   ]
  },
  {
   "cell_type": "code",
   "execution_count": 17,
   "metadata": {},
   "outputs": [
    {
     "data": {
      "text/html": [
       "<div>\n",
       "<style scoped>\n",
       "    .dataframe tbody tr th:only-of-type {\n",
       "        vertical-align: middle;\n",
       "    }\n",
       "\n",
       "    .dataframe tbody tr th {\n",
       "        vertical-align: top;\n",
       "    }\n",
       "\n",
       "    .dataframe thead th {\n",
       "        text-align: right;\n",
       "    }\n",
       "</style>\n",
       "<table border=\"1\" class=\"dataframe\">\n",
       "  <thead>\n",
       "    <tr style=\"text-align: right;\">\n",
       "      <th></th>\n",
       "      <th>Area Code</th>\n",
       "      <th>Year Code</th>\n",
       "      <th>Value</th>\n",
       "    </tr>\n",
       "  </thead>\n",
       "  <tbody>\n",
       "    <tr>\n",
       "      <th>0</th>\n",
       "      <td>9</td>\n",
       "      <td>2007</td>\n",
       "      <td>123.086061</td>\n",
       "    </tr>\n",
       "    <tr>\n",
       "      <th>1</th>\n",
       "      <td>9</td>\n",
       "      <td>2008</td>\n",
       "      <td>155.952012</td>\n",
       "    </tr>\n",
       "    <tr>\n",
       "      <th>2</th>\n",
       "      <td>9</td>\n",
       "      <td>2009</td>\n",
       "      <td>139.891744</td>\n",
       "    </tr>\n",
       "    <tr>\n",
       "      <th>3</th>\n",
       "      <td>9</td>\n",
       "      <td>2010</td>\n",
       "      <td>171.921928</td>\n",
       "    </tr>\n",
       "    <tr>\n",
       "      <th>4</th>\n",
       "      <td>9</td>\n",
       "      <td>2011</td>\n",
       "      <td>215.123273</td>\n",
       "    </tr>\n",
       "  </tbody>\n",
       "</table>\n",
       "</div>"
      ],
      "text/plain": [
       "   Area Code  Year Code       Value\n",
       "0          9       2007  123.086061\n",
       "1          9       2008  155.952012\n",
       "2          9       2009  139.891744\n",
       "3          9       2010  171.921928\n",
       "4          9       2011  215.123273"
      ]
     },
     "execution_count": 17,
     "metadata": {},
     "output_type": "execute_result"
    }
   ],
   "source": [
    "price_table.head()"
   ]
  },
  {
   "cell_type": "code",
   "execution_count": 11,
   "metadata": {},
   "outputs": [],
   "source": [
    "from sqlalchemy import create_engine\n",
    "\n",
    "driver = 'mysql+pymysql:'\n",
    "user = 'root'\n",
    "password = '17028854'\n",
    "ip = '35.195.111.11'\n",
    "database = 'Avocalypse'\n",
    "\n",
    "connection_string = f'{driver}//{user}:{password}@{ip}/{database}'\n",
    "engine = create_engine(connection_string)"
   ]
  },
  {
   "cell_type": "code",
   "execution_count": 19,
   "metadata": {},
   "outputs": [],
   "source": [
    "price_table.to_sql('prices',con=engine, if_exists='replace')"
   ]
  },
  {
   "cell_type": "code",
   "execution_count": null,
   "metadata": {},
   "outputs": [],
   "source": []
  }
 ],
 "metadata": {
  "kernelspec": {
   "display_name": "Python 3",
   "language": "python",
   "name": "python3"
  },
  "language_info": {
   "codemirror_mode": {
    "name": "ipython",
    "version": 3
   },
   "file_extension": ".py",
   "mimetype": "text/x-python",
   "name": "python",
   "nbconvert_exporter": "python",
   "pygments_lexer": "ipython3",
   "version": "3.7.2"
  }
 },
 "nbformat": 4,
 "nbformat_minor": 2
}
