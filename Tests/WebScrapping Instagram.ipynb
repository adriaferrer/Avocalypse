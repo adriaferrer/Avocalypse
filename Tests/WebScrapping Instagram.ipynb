{
 "cells": [
  {
   "cell_type": "code",
   "execution_count": 107,
   "metadata": {},
   "outputs": [],
   "source": [
    "from selenium import webdriver\n",
    "from bs4 import BeautifulSoup\n",
    "import pandas as pd\n",
    "import datetime\n",
    "import time\n",
    "import re\n",
    "import numpy as np"
   ]
  },
  {
   "cell_type": "code",
   "execution_count": 108,
   "metadata": {},
   "outputs": [],
   "source": [
    "#taglist = ['avocado','avocados','avocadotoast','wherearetheavocados','avocadooil','avocadolove','avocadolover','avocadoplant','avocadosalad','avocadoporn','avocadotree','avocadolovers','avocadoaddict','aguacate']\n",
    "taglist = ['avocado']"
   ]
  },
  {
   "cell_type": "code",
   "execution_count": 109,
   "metadata": {},
   "outputs": [],
   "source": [
    "driver = webdriver.Chrome('/Users/adriaferrer/IronhackRepos/Avocalypse/Tests/chromedriver')"
   ]
  },
  {
   "cell_type": "code",
   "execution_count": 110,
   "metadata": {},
   "outputs": [
    {
     "name": "stdout",
     "output_type": "stream",
     "text": [
      "Entra al NONE\n"
     ]
    }
   ],
   "source": [
    "# Define lists to store hashtag information\n",
    " \n",
    "tag_name_list = []\n",
    "postids_list = []\n",
    "post_time_list = []\n",
    "megustas_list = []\n",
    "    \n",
    "# Loop over each hashtag to extract information\n",
    "for tag in taglist:\n",
    "     \n",
    "    driver.get('https://www.instagram.com/explore/tags/'+str(tag))\n",
    "    soup = BeautifulSoup(driver.page_source,\"lxml\")\n",
    "     \n",
    "    # Extract current hashtag name\n",
    "    tagname = tag\n",
    "    # Extract total number of posts in this hashtag\n",
    "    # NOTE: Class name may change in the website code\n",
    "    # Get the latest class name by inspecting web code\n",
    "    nposts = soup.find('span', {'class': 'g47SY'}).text\n",
    "         \n",
    "    # Extract all post links from 'explore tags' page\n",
    "    # Needed to extract post frequency of recent posts\n",
    "    myli = []\n",
    "    for a in soup.find_all('a', href=True):\n",
    "        myli.append(a['href'])\n",
    " \n",
    "    # Keep link of only 5 most recent posts \n",
    "    newmyli = [x for x in myli if x.startswith('/p/')]\n",
    "    del newmyli[5:]\n",
    "   \n",
    "    # Extract the info for each post of the tag\n",
    "    for postid in range(len(newmyli)):\n",
    "        \n",
    "        #Add tagname\n",
    "        tag_name_list.append(tag)\n",
    "        driver.get('https://www.instagram.com'+str(newmyli[postid]))\n",
    "        soup = BeautifulSoup(driver.page_source,\"lxml\")\n",
    "        \n",
    "        #Add post id\n",
    "        postids_list.append(postid)\n",
    "        \n",
    "        #Add likes, if any\n",
    "        megustas = soup.find('div', {'class': 'Nm9Fw'})\n",
    "        if megustas == None:\n",
    "            print('Entra al NONE')\n",
    "            megustas_list.append('0')\n",
    "        else:\n",
    "            megustas_list.append(megustas.find('span').text)\n",
    "        \n",
    "        #Add timestamp\n",
    "        for i in soup.findAll('time'):\n",
    "            if i.has_attr('datetime'):\n",
    "                post_time_list.append(i['datetime'])\n",
    "        \n",
    "        \n",
    "    # Add hashtag info to dataframe\n",
    "    \n",
    "driver.quit()"
   ]
  },
  {
   "cell_type": "code",
   "execution_count": 111,
   "metadata": {},
   "outputs": [],
   "source": [
    "tag_df  = pd.DataFrame({'tags': tag_name_list, 'postid': postids_list, 'date': post_time_list, 'likes': megustas_list})         "
   ]
  },
  {
   "cell_type": "code",
   "execution_count": 112,
   "metadata": {},
   "outputs": [
    {
     "data": {
      "text/html": [
       "<div>\n",
       "<style scoped>\n",
       "    .dataframe tbody tr th:only-of-type {\n",
       "        vertical-align: middle;\n",
       "    }\n",
       "\n",
       "    .dataframe tbody tr th {\n",
       "        vertical-align: top;\n",
       "    }\n",
       "\n",
       "    .dataframe thead th {\n",
       "        text-align: right;\n",
       "    }\n",
       "</style>\n",
       "<table border=\"1\" class=\"dataframe\">\n",
       "  <thead>\n",
       "    <tr style=\"text-align: right;\">\n",
       "      <th></th>\n",
       "      <th>tags</th>\n",
       "      <th>postid</th>\n",
       "      <th>date</th>\n",
       "      <th>likes</th>\n",
       "    </tr>\n",
       "  </thead>\n",
       "  <tbody>\n",
       "    <tr>\n",
       "      <th>0</th>\n",
       "      <td>avocado</td>\n",
       "      <td>0</td>\n",
       "      <td>2019-03-28T15:48:17.000Z</td>\n",
       "      <td>1.074</td>\n",
       "    </tr>\n",
       "    <tr>\n",
       "      <th>1</th>\n",
       "      <td>avocado</td>\n",
       "      <td>1</td>\n",
       "      <td>2019-03-27T23:22:06.000Z</td>\n",
       "      <td>2.087</td>\n",
       "    </tr>\n",
       "    <tr>\n",
       "      <th>2</th>\n",
       "      <td>avocado</td>\n",
       "      <td>2</td>\n",
       "      <td>2019-03-27T22:41:45.000Z</td>\n",
       "      <td>0</td>\n",
       "    </tr>\n",
       "    <tr>\n",
       "      <th>3</th>\n",
       "      <td>avocado</td>\n",
       "      <td>3</td>\n",
       "      <td>2019-03-27T19:43:57.000Z</td>\n",
       "      <td>2.245</td>\n",
       "    </tr>\n",
       "    <tr>\n",
       "      <th>4</th>\n",
       "      <td>avocado</td>\n",
       "      <td>4</td>\n",
       "      <td>2019-03-27T20:32:22.000Z</td>\n",
       "      <td>7.855</td>\n",
       "    </tr>\n",
       "  </tbody>\n",
       "</table>\n",
       "</div>"
      ],
      "text/plain": [
       "      tags  postid                      date  likes\n",
       "0  avocado       0  2019-03-28T15:48:17.000Z  1.074\n",
       "1  avocado       1  2019-03-27T23:22:06.000Z  2.087\n",
       "2  avocado       2  2019-03-27T22:41:45.000Z      0\n",
       "3  avocado       3  2019-03-27T19:43:57.000Z  2.245\n",
       "4  avocado       4  2019-03-27T20:32:22.000Z  7.855"
      ]
     },
     "execution_count": 112,
     "metadata": {},
     "output_type": "execute_result"
    }
   ],
   "source": [
    "# Check the final dataframe\n",
    "tag_df\n",
    " \n",
    "# CSV output for hashtag analysis\n",
    "#tag_df.to_csv('hashtag_list.csv')"
   ]
  }
 ],
 "metadata": {
  "kernelspec": {
   "display_name": "Python 3",
   "language": "python",
   "name": "python3"
  },
  "language_info": {
   "codemirror_mode": {
    "name": "ipython",
    "version": 3
   },
   "file_extension": ".py",
   "mimetype": "text/x-python",
   "name": "python",
   "nbconvert_exporter": "python",
   "pygments_lexer": "ipython3",
   "version": "3.7.2"
  }
 },
 "nbformat": 4,
 "nbformat_minor": 2
}
