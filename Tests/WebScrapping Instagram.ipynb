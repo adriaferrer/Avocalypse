{
 "cells": [
  {
   "cell_type": "code",
   "execution_count": 318,
   "metadata": {},
   "outputs": [],
   "source": [
    "from selenium import webdriver\n",
    "from selenium.webdriver.common.keys import Keys   \n",
    "from selenium.webdriver.common.by import By\n",
    "from bs4 import BeautifulSoup\n",
    "import pandas as pd\n",
    "import datetime\n",
    "import time\n",
    "import numpy as np"
   ]
  },
  {
   "cell_type": "code",
   "execution_count": 319,
   "metadata": {},
   "outputs": [],
   "source": [
    "taglist = ['avocado','avocados','avocadotoast','wherearetheavocados','avocadooil','avocadolove','avocadolover','avocadoplant','avocadosalad','avocadoporn','avocadotree','avocadolovers','avocadoaddict','aguacate']"
   ]
  },
  {
   "cell_type": "code",
   "execution_count": 320,
   "metadata": {},
   "outputs": [],
   "source": [
    "driver = webdriver.Chrome('/Users/adriaferrer/IronhackRepos/Avocalypse/Tests/chromedriver')"
   ]
  },
  {
   "cell_type": "code",
   "execution_count": 321,
   "metadata": {},
   "outputs": [
    {
     "name": "stdout",
     "output_type": "stream",
     "text": [
      "This is scroll 0\n",
      "This is scroll 1\n",
      "This is scroll 2\n",
      "This is scroll 3\n",
      "This is scroll 4\n",
      "This is scroll 5\n",
      "This is scroll 6\n",
      "This is scroll 7\n",
      "This is scroll 8\n",
      "This is scroll 9\n",
      "This is scroll 0\n",
      "This is scroll 1\n",
      "This is scroll 2\n",
      "This is scroll 3\n",
      "This is scroll 4\n",
      "This is scroll 5\n",
      "This is scroll 6\n",
      "This is scroll 7\n",
      "This is scroll 8\n",
      "This is scroll 9\n",
      "This is scroll 0\n",
      "This is scroll 1\n",
      "This is scroll 2\n",
      "This is scroll 3\n",
      "This is scroll 4\n",
      "This is scroll 5\n",
      "This is scroll 6\n",
      "This is scroll 7\n",
      "This is scroll 8\n",
      "This is scroll 9\n",
      "This is scroll 0\n",
      "This is scroll 1\n",
      "This is scroll 2\n",
      "This is scroll 3\n",
      "This is scroll 4\n",
      "This is scroll 5\n",
      "This is scroll 6\n",
      "This is scroll 7\n",
      "This is scroll 8\n",
      "This is scroll 9\n",
      "This is scroll 0\n",
      "This is scroll 1\n",
      "This is scroll 2\n",
      "This is scroll 3\n",
      "This is scroll 4\n",
      "This is scroll 5\n",
      "This is scroll 6\n",
      "This is scroll 7\n",
      "This is scroll 8\n",
      "This is scroll 9\n",
      "This is scroll 0\n",
      "This is scroll 1\n",
      "This is scroll 2\n",
      "This is scroll 3\n",
      "This is scroll 4\n",
      "This is scroll 5\n",
      "This is scroll 6\n",
      "This is scroll 7\n",
      "This is scroll 8\n",
      "This is scroll 9\n",
      "This is scroll 0\n",
      "This is scroll 1\n",
      "This is scroll 2\n",
      "This is scroll 3\n",
      "This is scroll 4\n",
      "This is scroll 5\n",
      "This is scroll 6\n",
      "This is scroll 7\n",
      "This is scroll 8\n",
      "This is scroll 9\n",
      "This is scroll 0\n",
      "This is scroll 1\n",
      "This is scroll 2\n",
      "This is scroll 3\n",
      "This is scroll 4\n",
      "This is scroll 5\n",
      "This is scroll 6\n",
      "This is scroll 7\n",
      "This is scroll 8\n",
      "This is scroll 9\n",
      "This is scroll 0\n",
      "This is scroll 1\n",
      "This is scroll 2\n",
      "This is scroll 3\n",
      "This is scroll 4\n",
      "This is scroll 5\n",
      "This is scroll 6\n",
      "This is scroll 7\n",
      "This is scroll 8\n",
      "This is scroll 9\n",
      "This is scroll 0\n",
      "This is scroll 1\n",
      "This is scroll 2\n",
      "This is scroll 3\n",
      "This is scroll 4\n",
      "This is scroll 5\n",
      "This is scroll 6\n",
      "This is scroll 7\n",
      "This is scroll 8\n",
      "This is scroll 9\n",
      "This is scroll 0\n",
      "This is scroll 1\n",
      "This is scroll 2\n",
      "This is scroll 3\n",
      "This is scroll 4\n",
      "This is scroll 5\n",
      "This is scroll 6\n",
      "This is scroll 7\n",
      "This is scroll 8\n",
      "This is scroll 9\n",
      "This is scroll 0\n",
      "This is scroll 1\n",
      "This is scroll 2\n",
      "This is scroll 3\n",
      "This is scroll 4\n",
      "This is scroll 5\n",
      "This is scroll 6\n",
      "This is scroll 7\n",
      "This is scroll 8\n",
      "This is scroll 9\n",
      "This is scroll 0\n",
      "This is scroll 1\n",
      "This is scroll 2\n",
      "This is scroll 3\n",
      "This is scroll 4\n",
      "This is scroll 5\n",
      "This is scroll 6\n",
      "This is scroll 7\n",
      "This is scroll 8\n",
      "This is scroll 9\n",
      "This is scroll 0\n",
      "This is scroll 1\n",
      "This is scroll 2\n",
      "This is scroll 3\n",
      "This is scroll 4\n",
      "This is scroll 5\n",
      "This is scroll 6\n",
      "This is scroll 7\n",
      "This is scroll 8\n",
      "This is scroll 9\n"
     ]
    }
   ],
   "source": [
    "# Define lists to store post information\n",
    " \n",
    "tag_name_list = []\n",
    "postids_list = []\n",
    "post_time_list = []\n",
    "likes_list = []\n",
    "\n",
    "# Loop over each hashtag to extract information\n",
    "for tag in taglist:\n",
    "    \n",
    "    for scroll in range(10):\n",
    "        print(f'This is scroll {scroll}')\n",
    "        driver.get('https://www.instagram.com/explore/tags/'+str(tag))\n",
    "        time.sleep(1)\n",
    "        \n",
    "        # Extract current hashtag name\n",
    "        tagname = tag\n",
    "        \n",
    "        # Extract all post links from 'explore tags' page\n",
    "        post_links = []\n",
    "\n",
    "        if scroll == 0:\n",
    "            soup = BeautifulSoup(driver.page_source,\"lxml\")\n",
    "            recientes = soup.find_all('div', {'class': 'Nnq7C weEfm'})\n",
    "            recientes = recientes[4:]\n",
    "            for row in recientes:\n",
    "                for a in row.find_all('a', href=True):\n",
    "                    post_links.append(a['href'])            \n",
    "        else:\n",
    "            for times in range(scroll):\n",
    "                driver.execute_script(\"window.scrollTo(0, document.body.scrollHeight);\")\n",
    "                time.sleep(1)\n",
    "            recientes = driver.find_elements_by_class_name('KC1QD')\n",
    "            for row in recientes:\n",
    "                recientes = row.find_elements_by_tag_name('a')\n",
    "            for a in recientes:\n",
    "                post_links.append(a.get_attribute('href').strip('https://www.instagram.com'))\n",
    "            post_links = post_links[9:]\n",
    "\n",
    "        # Keep link of only 30 most recent posts\n",
    "        if scroll == 0:\n",
    "            clean_post_links = [x for x in post_links if x.startswith('/p/')]\n",
    "        else:\n",
    "            clean_post_links = ['/p/'+x for x in post_links]\n",
    "        \n",
    "        del clean_post_links[30:]\n",
    "\n",
    "        # Extract the info for each post of the tag\n",
    "        for postid in range(len(clean_post_links)):\n",
    "\n",
    "            #Add tagname\n",
    "            tag_name_list.append(tag)\n",
    "            driver.get('https://www.instagram.com'+str(clean_post_links[postid]))\n",
    "            soup = BeautifulSoup(driver.page_source,\"lxml\")\n",
    "\n",
    "            #Add post id\n",
    "            postids_list.append(str(clean_post_links[postid]))\n",
    "\n",
    "            #Add likes, if any\n",
    "            likes = soup.find('div', {'class': 'Nm9Fw'})\n",
    "            if likes == None:\n",
    "                likes_list.append('0')\n",
    "            else:\n",
    "                try:\n",
    "                    likes_list.append(likes.find('span').text)\n",
    "                except:\n",
    "                    likes_list.append('1')\n",
    "\n",
    "            #Add timestamp\n",
    "            i = soup.find('time')\n",
    "            if i == None:\n",
    "                post_time_list.append(np.nan)\n",
    "            else:\n",
    "                post_time_list.append(i['datetime'])\n",
    "    \n",
    "driver.quit()"
   ]
  },
  {
   "cell_type": "code",
   "execution_count": 322,
   "metadata": {},
   "outputs": [
    {
     "data": {
      "text/plain": [
       "1794"
      ]
     },
     "execution_count": 322,
     "metadata": {},
     "output_type": "execute_result"
    }
   ],
   "source": [
    "len(postids_list)"
   ]
  },
  {
   "cell_type": "code",
   "execution_count": 323,
   "metadata": {},
   "outputs": [
    {
     "data": {
      "text/plain": [
       "474"
      ]
     },
     "execution_count": 323,
     "metadata": {},
     "output_type": "execute_result"
    }
   ],
   "source": [
    "len(set(postids_list))"
   ]
  },
  {
   "cell_type": "code",
   "execution_count": 324,
   "metadata": {},
   "outputs": [
    {
     "data": {
      "text/plain": [
       "1794"
      ]
     },
     "execution_count": 324,
     "metadata": {},
     "output_type": "execute_result"
    }
   ],
   "source": [
    "len(post_time_list)"
   ]
  },
  {
   "cell_type": "code",
   "execution_count": 325,
   "metadata": {},
   "outputs": [
    {
     "data": {
      "text/plain": [
       "1794"
      ]
     },
     "execution_count": 325,
     "metadata": {},
     "output_type": "execute_result"
    }
   ],
   "source": [
    "len(likes_list)"
   ]
  },
  {
   "cell_type": "code",
   "execution_count": 326,
   "metadata": {},
   "outputs": [],
   "source": [
    "# Add hashtag info to dataframe\n",
    "\n",
    "tag_df  = pd.DataFrame({'tags': tag_name_list, 'postid': postids_list, 'date': post_time_list, 'likes': likes_list})         "
   ]
  },
  {
   "cell_type": "code",
   "execution_count": 328,
   "metadata": {},
   "outputs": [],
   "source": [
    "# Check the final dataframe\n",
    "tag_df.head()\n",
    " \n",
    "# CSV output for hashtag analysis\n",
    "tag_df.to_csv('hashtag_list.csv')"
   ]
  },
  {
   "cell_type": "code",
   "execution_count": null,
   "metadata": {},
   "outputs": [],
   "source": []
  }
 ],
 "metadata": {
  "kernelspec": {
   "display_name": "Python 3",
   "language": "python",
   "name": "python3"
  },
  "language_info": {
   "codemirror_mode": {
    "name": "ipython",
    "version": 3
   },
   "file_extension": ".py",
   "mimetype": "text/x-python",
   "name": "python",
   "nbconvert_exporter": "python",
   "pygments_lexer": "ipython3",
   "version": "3.7.2"
  }
 },
 "nbformat": 4,
 "nbformat_minor": 2
}
