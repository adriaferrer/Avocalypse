{
 "cells": [
  {
   "cell_type": "code",
   "execution_count": 31,
   "metadata": {},
   "outputs": [],
   "source": [
    "from selenium import webdriver\n",
    "from bs4 import BeautifulSoup\n",
    "import pandas as pd\n",
    "import datetime\n",
    "import time"
   ]
  },
  {
   "cell_type": "code",
   "execution_count": 32,
   "metadata": {},
   "outputs": [],
   "source": [
    "taglist = ['avocado','avocados','avocadotoast','wherearetheavocados','avocadooil','avocadolove','avocadolover','avocadoplant','avocadosalad','avocadoporn','avocadotree','avocadolovers','avocadoaddict','aguacate']"
   ]
  },
  {
   "cell_type": "code",
   "execution_count": 33,
   "metadata": {},
   "outputs": [],
   "source": [
    "driver = webdriver.Chrome('/Users/adriaferrer/IronhackRepos/Avocalypse/Tests/chromedriver')"
   ]
  },
  {
   "cell_type": "code",
   "execution_count": 34,
   "metadata": {},
   "outputs": [],
   "source": [
    "# Define dataframe to store hashtag information\n",
    "tag_df  = pd.DataFrame(columns = ['Hashtag', 'Number of Posts', 'Posting Freq (mins)'])\n",
    " \n",
    "# Loop over each hashtag to extract information\n",
    "for tag in taglist:\n",
    "     \n",
    "    driver.get('https://www.instagram.com/explore/tags/'+str(tag))\n",
    "    soup = BeautifulSoup(driver.page_source,\"lxml\")\n",
    "     \n",
    "    # Extract current hashtag name\n",
    "    tagname = tag\n",
    "    # Extract total number of posts in this hashtag\n",
    "    # NOTE: Class name may change in the website code\n",
    "    # Get the latest class name by inspecting web code\n",
    "    nposts = soup.find('span', {'class': 'g47SY'}).text\n",
    "         \n",
    "    # Extract all post links from 'explore tags' page\n",
    "    # Needed to extract post frequency of recent posts\n",
    "    myli = []\n",
    "    for a in soup.find_all('a', href=True):\n",
    "        myli.append(a['href'])\n",
    " \n",
    "    # Keep link of only 1st and 9th most recent post \n",
    "    newmyli = [x for x in myli if x.startswith('/p/')]\n",
    "    del newmyli[:9]\n",
    "    del newmyli[9:]\n",
    "    del newmyli[1:8]\n",
    " \n",
    "    timediff = []\n",
    " \n",
    "    # Extract the posting time of 1st and 9th most recent post for a tag\n",
    "    for j in range(len(newmyli)):\n",
    "        driver.get('https://www.instagram.com'+str(newmyli[j]))\n",
    "        soup = BeautifulSoup(driver.page_source,\"lxml\")\n",
    " \n",
    "        for i in soup.findAll('time'):\n",
    "            if i.has_attr('datetime'):\n",
    "                timediff.append(i['datetime'])\n",
    "                #print(i['datetime'])\n",
    " \n",
    "    # Calculate time difference between posts\n",
    "    # For obtaining posting frequency\n",
    "    datetimeFormat = '%Y-%m-%dT%H:%M:%S.%fZ'\n",
    "    diff = datetime.datetime.strptime(timediff[0], datetimeFormat)\\\n",
    "        - datetime.datetime.strptime(timediff[1], datetimeFormat)\n",
    "    pfreq= int(diff.total_seconds()/(9*60))\n",
    "     \n",
    "    # Add hashtag info to dataframe\n",
    "    tag_df.loc[len(tag_df)] = [tagname, nposts, pfreq]\n",
    "         \n",
    "driver.quit()"
   ]
  },
  {
   "cell_type": "code",
   "execution_count": 35,
   "metadata": {},
   "outputs": [
    {
     "name": "stdout",
     "output_type": "stream",
     "text": [
      "                Hashtag Number of Posts Posting Freq (mins)\n",
      "0               avocado       9.468.466                   0\n",
      "1              avocados         404.676                   1\n",
      "2          avocadotoast       1.139.201                   1\n",
      "3   wherearetheavocados         482.684                   0\n",
      "4            avocadooil         112.418                   7\n",
      "5           avocadolove         246.162                   2\n",
      "6          avocadolover         185.639                   1\n",
      "7          avocadoplant          28.850                  16\n",
      "8          avocadosalad          76.606                   5\n",
      "9           avocadoporn          24.581                  34\n",
      "10          avocadotree          55.272                  20\n",
      "11        avocadolovers          49.061                  11\n",
      "12        avocadoaddict          64.657                  10\n",
      "13             aguacate         586.821                   1\n"
     ]
    }
   ],
   "source": [
    "# Check the final dataframe\n",
    "print(tag_df)\n",
    " \n",
    "# CSV output for hashtag analysis\n",
    "tag_df.to_csv('hashtag_list.csv')"
   ]
  },
  {
   "cell_type": "code",
   "execution_count": null,
   "metadata": {},
   "outputs": [],
   "source": []
  }
 ],
 "metadata": {
  "kernelspec": {
   "display_name": "Python 3",
   "language": "python",
   "name": "python3"
  },
  "language_info": {
   "codemirror_mode": {
    "name": "ipython",
    "version": 3
   },
   "file_extension": ".py",
   "mimetype": "text/x-python",
   "name": "python",
   "nbconvert_exporter": "python",
   "pygments_lexer": "ipython3",
   "version": "3.7.2"
  }
 },
 "nbformat": 4,
 "nbformat_minor": 2
}
